{
 "cells": [
  {
   "cell_type": "markdown",
   "id": "ef50eb2d",
   "metadata": {},
   "source": [
    "after initial success with scrapping articles:"
   ]
  },
  {
   "cell_type": "code",
   "execution_count": 7,
   "id": "a395be6a",
   "metadata": {},
   "outputs": [
    {
     "name": "stdout",
     "output_type": "stream",
     "text": [
      "[✅] Collection 'news_articles' recreated.\n"
     ]
    },
    {
     "name": "stderr",
     "output_type": "stream",
     "text": [
      "🔄 Embedding Articles: 100%|██████████| 59/59 [01:59<00:00,  2.02s/it]\n"
     ]
    }
   ],
   "source": [
    "# --------------------- 0. Imports --------------------- #\n",
    "import os\n",
    "import uuid\n",
    "import pandas as pd\n",
    "from tqdm import tqdm\n",
    "from dotenv import load_dotenv\n",
    "from huggingface_hub import InferenceClient\n",
    "from qdrant_client import QdrantClient\n",
    "from qdrant_client.http.models import VectorParams, Distance, PointStruct\n",
    "\n",
    "# --------------------- 1. Configuration --------------------- #\n",
    "load_dotenv()\n",
    "\n",
    "hf_token = os.getenv(\"hf_token\")\n",
    "qdrant_token = os.getenv(\"qdrant_token\")\n",
    "\n",
    "if not hf_token or not qdrant_token:\n",
    "    raise ValueError(\"Missing tokens in .env file. Make sure 'hf_token' and 'qdrant_token' are set.\")\n",
    "\n",
    "EMBEDDING_MODEL = \"intfloat/multilingual-e5-large\"\n",
    "COLLECTION_NAME = \"news_articles\"  # Reuse this consistently\n",
    "\n",
    "# --------------------- 2. Clients --------------------- #\n",
    "embedding_client = InferenceClient(api_key=hf_token)\n",
    "\n",
    "vector_db_client = QdrantClient(\n",
    "    url=\"https://cf58605f-3b88-494f-9b09-dcc67ca3478b.europe-west3-0.gcp.cloud.qdrant.io:6333\",\n",
    "    api_key=qdrant_token\n",
    ")\n",
    "\n",
    "# --------------------- 3. Qdrant Collection Setup --------------------- #\n",
    "def recreate_collection():\n",
    "    try:\n",
    "        vector_db_client.delete_collection(collection_name=COLLECTION_NAME)\n",
    "        vector_db_client.create_collection(\n",
    "            collection_name=COLLECTION_NAME,\n",
    "            vectors_config=VectorParams(\n",
    "                size=1024,\n",
    "                distance=Distance.COSINE\n",
    "            )\n",
    "        )\n",
    "        print(f\"[✅] Collection '{COLLECTION_NAME}' recreated.\")\n",
    "    except Exception as e:\n",
    "        print(f\"[❌] Failed to recreate collection: {e}\")\n",
    "\n",
    "# --------------------- 4. Article Embedding & Upload --------------------- #\n",
    "def chunk_text(text, max_tokens=500):\n",
    "    words = text.split()\n",
    "    return [\" \".join(words[i:i + max_tokens]) for i in range(0, len(words), max_tokens)]\n",
    "\n",
    "def upload_articles(csv_path=\"tech_trends_news.csv\"):\n",
    "    df = pd.read_csv(csv_path)\n",
    "\n",
    "    for _, row in tqdm(df.iterrows(), total=len(df), desc=\"🔄 Embedding Articles\"):\n",
    "        title = row.get(\"title\", \"\")\n",
    "        url = row.get(\"url\", \"\")\n",
    "        text = row.get(\"text\", \"\")\n",
    "\n",
    "        if not isinstance(text, str) or not text.strip():\n",
    "            continue\n",
    "\n",
    "        for i, chunk in enumerate(chunk_text(text)):\n",
    "            try:\n",
    "                embedding = embedding_client.feature_extraction(\n",
    "                    chunk,\n",
    "                    model=EMBEDDING_MODEL\n",
    "                )\n",
    "\n",
    "                if len(embedding) != 1024:\n",
    "                    print(f\"⚠️ Skipped '{title}' due to unexpected embedding size.\")\n",
    "                    continue\n",
    "\n",
    "                point_id = str(uuid.uuid5(uuid.NAMESPACE_URL, f\"{title}-{i}\"))\n",
    "\n",
    "                vector_db_client.upsert(\n",
    "                    collection_name=COLLECTION_NAME,\n",
    "                    points=[PointStruct(\n",
    "                        id=point_id,\n",
    "                        vector=embedding,\n",
    "                        payload={\n",
    "                            \"title\": title,\n",
    "                            \"url\": url,\n",
    "                            \"chunk\": chunk\n",
    "                        }\n",
    "                    )]\n",
    "                )\n",
    "            except Exception as e:\n",
    "                print(f\"[ERROR] Chunk {i} of '{title}' failed: {e}\")\n",
    "\n",
    "# --------------------- 5. Run End-to-End --------------------- #\n",
    "if __name__ == \"__main__\":\n",
    "    recreate_collection()\n",
    "    upload_articles(\"tech_trends_news.csv\")\n"
   ]
  },
  {
   "cell_type": "code",
   "execution_count": 8,
   "id": "bfcff581",
   "metadata": {},
   "outputs": [
    {
     "name": "stderr",
     "output_type": "stream",
     "text": [
      "C:\\Users\\defaultuser0.DESKTOP-UKLK8JF\\AppData\\Local\\Temp\\ipykernel_11364\\1326191070.py:7: DeprecationWarning: `search` method is deprecated and will be removed in the future. Use `query_points` instead.\n",
      "  results = vector_db_client.search(\n"
     ]
    },
    {
     "name": "stdout",
     "output_type": "stream",
     "text": [
      "🔎 Preparing Employees for AI in the Workplace: A Guide to Seamless Integration\n",
      "📎 URL: https://profiletree.com/ai-in-the-workplace/\n",
      "📝 Snippet: Preparing Employees for AI in the Workplace: A Guide to Seamless Integration Updated on: Updated by: AI in the Workplace – As artificial intelligence (AI) becomes more integrated into business operations, preparing employees for an AI-enhanced workplace is imperative. AI is not just a future conside...\n",
      "\n",
      "🔎 Preparing Employees for AI in the Workplace: A Guide to Seamless Integration\n",
      "📎 URL: https://profiletree.com/ai-in-the-workplace/\n",
      "📝 Snippet: allowing staff to focus on more complex and creative work. AI can also assist in data analysis, enabling employees to make informed decisions swiftly and accurately. We’ve found that when AI handles the more mundane aspects of work, it frees our team to concentrate on strategy and innovation. The be...\n",
      "\n",
      "🔎 Artificial intelligence in education, AI tutors features, advantages and disadvantages\n",
      "📎 URL: https://www.online-sciences.com/robotics/artificial-intelligence-in-education-ai-tutors-advantages-and-disadvantages/\n",
      "📝 Snippet: Artificial Intelligence (AI) is a field in computer science that involves the creation of intelligent systems that behave like human beings, Artificial Intelligence can determine the best teaching method for each student, This will help in detecting students with learning disabilities and addressing...\n",
      "\n",
      "🔎 Understanding the Syllabus of a B.Tech in AI & ML Program\n",
      "📎 URL: https://www.universalai.in/understanding-the-syllabus-of-a-b-tech-in-ai-ml-program/\n",
      "📝 Snippet: The basic understanding of AI and ML includes the implementation of human knowledge in the form of codes and algorithms to develop artificial computer systems with huge value. What is taught in BTech artificial intelligence? Students are educated on various concepts such as computer system architect...\n",
      "\n",
      "🔎 Preparing Employees for AI in the Workplace: A Guide to Seamless Integration\n",
      "📎 URL: https://profiletree.com/ai-in-the-workplace/\n",
      "📝 Snippet: more creative and fulfilling aspects of their work. However, measuring this shift requires a careful approach. Surveys and feedback mechanisms are invaluable for taking the pulse of employee morale and gauging how AI is impacting their work life balance and job satisfaction. Employee morale indicato...\n",
      "\n"
     ]
    }
   ],
   "source": [
    "def search_articles(query: str, top_k=5):\n",
    "    embedding = embedding_client.feature_extraction(\n",
    "        query,\n",
    "        model=EMBEDDING_MODEL  # Use the same embedding model variable you defined earlier\n",
    "    )\n",
    "\n",
    "    results = vector_db_client.search(\n",
    "        collection_name=COLLECTION_NAME,  # Use your global COLLECTION_NAME, e.g. \"news_articles\"\n",
    "        query_vector=embedding,\n",
    "        limit=top_k,\n",
    "        with_payload=True  # This ensures you get the title, url, chunk in results\n",
    "    )\n",
    "\n",
    "    return results\n",
    "\n",
    "# Example usage:\n",
    "results = search_articles(\"How to prepare student for AI trends in the labour market\")\n",
    "\n",
    "for hit in results:\n",
    "    print(f\"🔎 {hit.payload.get('title', 'No title')}\")\n",
    "    print(f\"📎 URL: {hit.payload.get('url', 'No URL')}\")\n",
    "    print(f\"📝 Snippet: {hit.payload.get('chunk', '')[:300]}...\\n\")\n"
   ]
  },
  {
   "cell_type": "code",
   "execution_count": null,
   "id": "fa7b509d",
   "metadata": {},
   "outputs": [],
   "source": [
    "# Example usage:\n",
    "results = search_articles(\"How to prepare student for AI trends in the labour market\")\n",
    "\n",
    "for hit in results:\n",
    "    print(f\"🔎 {hit.payload.get('title', 'No title')}\")\n",
    "    print(f\"📎 URL: {hit.payload.get('url', 'No URL')}\")\n",
    "    print(f\"📝 Snippet: {hit.payload.get('chunk', '')[:300]}...\\n\")\n"
   ]
  }
 ],
 "metadata": {
  "kernelspec": {
   "display_name": "venv",
   "language": "python",
   "name": "python3"
  },
  "language_info": {
   "codemirror_mode": {
    "name": "ipython",
    "version": 3
   },
   "file_extension": ".py",
   "mimetype": "text/x-python",
   "name": "python",
   "nbconvert_exporter": "python",
   "pygments_lexer": "ipython3",
   "version": "3.13.3"
  }
 },
 "nbformat": 4,
 "nbformat_minor": 5
}
